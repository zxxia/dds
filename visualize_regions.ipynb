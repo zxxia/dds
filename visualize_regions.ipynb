{
 "metadata": {
  "language_info": {
   "codemirror_mode": {
    "name": "ipython",
    "version": 3
   },
   "file_extension": ".py",
   "mimetype": "text/x-python",
   "name": "python",
   "nbconvert_exporter": "python",
   "pygments_lexer": "ipython3",
   "version": "3.7.7-final"
  },
  "orig_nbformat": 2,
  "kernelspec": {
   "name": "python3",
   "display_name": "Python 3"
  }
 },
 "nbformat": 4,
 "nbformat_minor": 2,
 "cells": [
  {
   "cell_type": "code",
   "execution_count": 33,
   "metadata": {},
   "outputs": [],
   "source": [
    "from PIL import Image, ImageDraw\n",
    "import os\n",
    "os.sys.path.append('../')\n",
    "from dds_utils import *\n",
    "import pandas as pd"
   ]
  },
  {
   "cell_type": "code",
   "execution_count": 5,
   "metadata": {},
   "outputs": [],
   "source": [
    "dds_results = read_results_dict('results/traffic_dds_1.0_1.0_34_24_0.0_twosides_batch_15_0.5_0.3_0.01')"
   ]
  },
  {
   "cell_type": "code",
   "execution_count": 16,
   "metadata": {},
   "outputs": [],
   "source": []
  },
  {
   "cell_type": "code",
   "execution_count": 46,
   "metadata": {},
   "outputs": [],
   "source": [
    "\n",
    "frame = Image.open('../dataset/traffic/src/%010d.png' % 0)\n",
    "\n",
    "width, height = frame.size\n",
    "data = []\n",
    "\n",
    "#for fid in range(len(dds_results)):\n",
    "for fid in range(len(dds_results)):\n",
    "    for region in dds_results[fid]:\n",
    "        x,y,w,h,label,conf = region.x, region.y, region.w, region.h, region.label, region.conf\n",
    "        x, w = x*width, w*width\n",
    "        y, h = y*height, h*height\n",
    "        data.append({\n",
    "            'frame id': fid+1,\n",
    "            'xmin': int(x),\n",
    "            'ymin': int(y),\n",
    "            'xmax': int(x+w),\n",
    "            'ymax': int(y+h),\n",
    "            'class': int(label),\n",
    "            'score': conf\n",
    "        })"
   ]
  },
  {
   "cell_type": "code",
   "execution_count": 48,
   "metadata": {},
   "outputs": [],
   "source": [
    "dataframe = pd.DataFrame(data)"
   ]
  },
  {
   "cell_type": "code",
   "execution_count": 50,
   "metadata": {},
   "outputs": [],
   "source": [
    "dataframe.to_csv('dds.csv',index=False)"
   ]
  },
  {
   "cell_type": "code",
   "execution_count": null,
   "metadata": {},
   "outputs": [],
   "source": []
  }
 ]
}